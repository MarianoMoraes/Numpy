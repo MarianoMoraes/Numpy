{
 "cells": [
  {
   "cell_type": "markdown",
   "id": "a0f19524",
   "metadata": {},
   "source": [
    "# - Exercici 1\n",
    "### Crea una funció que donat un Array d’una dimensió, et faci un resum estadístic bàsic de les dades. Si detecta que l’array té més d’una dimensió, ha de mostrar un missatge d’error."
   ]
  },
  {
   "cell_type": "code",
   "execution_count": 5,
   "id": "73e19884",
   "metadata": {},
   "outputs": [
    {
     "name": "stdout",
     "output_type": "stream",
     "text": [
      "Requirement already satisfied: numpy in /Users/Moraes/anaconda3/lib/python3.10/site-packages (1.23.5)\n",
      "Note: you may need to restart the kernel to use updated packages.\n"
     ]
    }
   ],
   "source": [
    "pip install numpy"
   ]
  },
  {
   "cell_type": "code",
   "execution_count": 11,
   "id": "c81d6915",
   "metadata": {},
   "outputs": [
    {
     "name": "stdout",
     "output_type": "stream",
     "text": [
      "{'Mínimo': 20, 'Máximo': 100, 'Media': 47.0}\n"
     ]
    }
   ],
   "source": [
    "import numpy as np\n",
    "\n",
    "def resumen_basico(array):\n",
    "    if array.ndim == 1:\n",
    "        min_val = np.min(array)\n",
    "        max_val = np.max(array)\n",
    "        mean_val = np.mean(array)\n",
    "\n",
    "        resumen = {\n",
    "            \"Mínimo\": min_val,\n",
    "            \"Máximo\": max_val,\n",
    "            \"Media\": mean_val,\n",
    "        }\n",
    "\n",
    "        return resumen\n",
    "    else:\n",
    "        print(\"El array ingresado tiene mas de una dimension.\")\n",
    "        \n",
    "        \n",
    "# Ejemplo array 1D = ([100, 60, 20, 30, 25])\n",
    "# Ejemplo array 2D = ([[10, 5, 20, 15, 25], [5, 7, 10, 20, 33]])\n",
    "\n",
    "\n",
    "array = np.array([100, 60, 20, 30, 25])\n",
    "print(resumen_basico(array))\n",
    "\n",
    "\n",
    "\n",
    "\n",
    "\n"
   ]
  },
  {
   "cell_type": "markdown",
   "id": "39df2775",
   "metadata": {},
   "source": [
    "# - Exercici 2\n",
    "###  Crea una funció que et generi un quadrat NxN de nombres aleatoris entre el 0 i el 100."
   ]
  },
  {
   "cell_type": "code",
   "execution_count": 25,
   "id": "9ea3d9b1",
   "metadata": {},
   "outputs": [
    {
     "name": "stdout",
     "output_type": "stream",
     "text": [
      "[[ 46  34  30  54  32]\n",
      " [ 75  74  16  80  46]\n",
      " [  1  16  46  92  35]\n",
      " [ 83  83   2  62  16]\n",
      " [ 79  13  62 100  66]\n",
      " [ 26  34  96  97  47]\n",
      " [ 87  32  65  33  34]\n",
      " [ 47  76   4  85  81]\n",
      " [ 10  39  70  51  60]]\n"
     ]
    }
   ],
   "source": [
    "import numpy as np\n",
    "\n",
    "def cuadrante_random(n, i):\n",
    "    if n <= 0 and i <= 0:\n",
    "        print(\"El valor de n y i debe ser mayor que 0.\")\n",
    "\n",
    "    cuadrante = np.random.randint(0, 101, size=(n, i))\n",
    "    return cuadrante\n",
    "\n",
    "# ingresar el numero de cuadrantes que uno quiere\n",
    "\n",
    "cuadrante_usuario = cuadrante_random(9, 5)\n",
    "print(cuadrante_usuario)\n"
   ]
  },
  {
   "cell_type": "markdown",
   "id": "b7d45440",
   "metadata": {},
   "source": [
    "# - Exercici 3\n",
    "### Crea una funció que donada una taula de dues dimensions (NxM), et calculi els totals per fila i els totals per columna."
   ]
  },
  {
   "cell_type": "code",
   "execution_count": 38,
   "id": "19b096dc",
   "metadata": {},
   "outputs": [
    {
     "name": "stdout",
     "output_type": "stream",
     "text": [
      "el total por filas es:  [ 6 15 24]\n",
      "el total por columnas es: [12 15 18]\n"
     ]
    }
   ],
   "source": [
    "import numpy as np\n",
    "\n",
    "def cuadrante(tabla):\n",
    "    total_filas = tabla.sum(axis=1)\n",
    "    total_columnas = tabla.sum(axis=0)\n",
    "    \n",
    "    return total_filas, total_columnas\n",
    "\n",
    "\n",
    "# ingresamos el cuadrante deseado \n",
    "\n",
    "tabla = np.array([[1, 2, 3],\n",
    "                  [4, 5, 6],\n",
    "                  [7, 8, 9]]) \n",
    "\n",
    "total_filas, total_columnas = cuadrante(tabla)\n",
    "\n",
    "print(\"el total por filas es: \", total_filas)\n",
    "print(\"el total por columnas es:\", total_columnas)\n"
   ]
  },
  {
   "cell_type": "markdown",
   "id": "7a6c2f4a",
   "metadata": {},
   "source": [
    "# - Exercici 4\n",
    "###  Implementa manualment una funció que calculi el coeficient de correlació. Informa-te'n sobre els seus usos i interpretació."
   ]
  },
  {
   "cell_type": "code",
   "execution_count": 44,
   "id": "483c0a9a",
   "metadata": {},
   "outputs": [
    {
     "name": "stdout",
     "output_type": "stream",
     "text": [
      "[[1.         0.98624138]\n",
      " [0.98624138 1.        ]]\n"
     ]
    }
   ],
   "source": [
    "# El coeficiente de correlación es una medida estadística que indica la relación lineal entre dos variables tomando valores entre -1 y 1.\n",
    "\n",
    "# 1 indica una correlación positiva perfecta, lo que significa que las variables tienen una relación lineal directa positiva.\n",
    "# -1 indica una correlación negativa perfecta, lo que significa que las variables tienen una relación lineal inversa (una aumenta, mientras la otra disminuye).\n",
    "# 0 indica que no hay correlación lineal entre las variables, es decir, no hay relación lineal.\n",
    "\n",
    "import numpy as np\n",
    "\n",
    "# Ejemplo 2 variables y 3 observaciones)\n",
    "tabla = np.array([[1, 2, 5],\n",
    "                  [2, 4, 7]])\n",
    "\n",
    "# Calcular la matriz de correlación\n",
    "correlacion = np.corrcoef(tabla)\n",
    "\n",
    "print(correlacion)\n",
    "\n"
   ]
  },
  {
   "cell_type": "code",
   "execution_count": null,
   "id": "4f95a0c0",
   "metadata": {},
   "outputs": [],
   "source": []
  }
 ],
 "metadata": {
  "kernelspec": {
   "display_name": "Python 3 (ipykernel)",
   "language": "python",
   "name": "python3"
  },
  "language_info": {
   "codemirror_mode": {
    "name": "ipython",
    "version": 3
   },
   "file_extension": ".py",
   "mimetype": "text/x-python",
   "name": "python",
   "nbconvert_exporter": "python",
   "pygments_lexer": "ipython3",
   "version": "3.10.9"
  }
 },
 "nbformat": 4,
 "nbformat_minor": 5
}
